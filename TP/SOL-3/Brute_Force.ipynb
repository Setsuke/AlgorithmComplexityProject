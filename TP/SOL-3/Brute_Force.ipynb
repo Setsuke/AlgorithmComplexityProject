{
  "nbformat": 4,
  "nbformat_minor": 0,
  "metadata": {
    "colab": {
      "name": "Brute Force.ipynb",
      "provenance": [],
      "include_colab_link": true
    },
    "kernelspec": {
      "name": "python3",
      "display_name": "Python 3"
    },
    "language_info": {
      "name": "python"
    }
  },
  "cells": [
    {
      "cell_type": "markdown",
      "metadata": {
        "id": "view-in-github",
        "colab_type": "text"
      },
      "source": [
        "<a href=\"https://colab.research.google.com/github/Setsuke/AlgorithmComplexityProject/blob/main/TP/SOL-3/Brute_Force.ipynb\" target=\"_parent\"><img src=\"https://colab.research.google.com/assets/colab-badge.svg\" alt=\"Open In Colab\"/></a>"
      ]
    },
    {
      "cell_type": "markdown",
      "metadata": {
        "id": "lQFpbFuAxhS7"
      },
      "source": [
        "<h1>Fuerza Bruta</h1><br>\n",
        "<b><i>Es una tecnica trivial pero a menudo usada, que consiste en enumerar todo los psibles candidatos para la solución de un problema. </i></b>\n",
        "    <p>Recorremos distintos tipos de caminos necesitando  memoria constante de tal manera que comparemos y obtengamos el menor recorrido de entre todas las soluciones iteradas.</p>"
      ]
    },
    {
      "cell_type": "markdown",
      "metadata": {
        "id": "HHaoIle_P5q_"
      },
      "source": [
        "##Algoritmo en general"
      ]
    },
    {
      "cell_type": "markdown",
      "metadata": {
        "id": "-L9zcuU4ICuH"
      },
      "source": [
        "  \n",
        "  <p>Debido a que permutaremos la cantidad de posibilidades del recorrido, en busqueda del camino más corto, la complejidad de esta solución tendrá un tiempo de ejecución de factor polinómico de orden O((n − 1)!), el factorial del número de centros poblados para esta solución es impracticable.</p>"
      ]
    },
    {
      "cell_type": "markdown",
      "metadata": {
        "id": "-GvmCwXqTdSw"
      },
      "source": [
        "\n",
        "\n",
        "*   10 centro poblados = 9! = 362880  posibilidades\n",
        "*   100 centro poblados = 99! = 9.332622 E+155 posibilidades\n",
        "*   1000 centros poblados = 999! = 10^2565 posibilidades\n",
        "*   Numero de Átamos en el Universo: <(10^100)\n",
        "\n",
        "\n",
        "\n",
        "\n",
        "\n",
        "\n",
        "\n"
      ]
    },
    {
      "cell_type": "code",
      "metadata": {
        "id": "Y7-G5rxlINni"
      },
      "source": [
        "JAZAN = {'DOS CORRALES':{'EL PALMO':0.03648936010675473, 'LA VIÑA': 0.09371572914938436,'PAMPA DE LEQUE LEQUE':0.005874046646053649,'SALDAÑA BAJO': 0.08672309822071995 },\n",
        "         'EL PALMO':{'LA VIÑA': 0.12956510887195952,'PAMPA DE LEQUE LEQUE':0.039907462823397515,'SALDAÑA BAJO': 0.1225225436562695, 'DOS CORRALES': 0.03648936010675473},\n",
        "         'LA VIÑA' :{'PAMPA DE LEQUE LEQUE': 0.09194587604672444,'SALDAÑA BAJO':0.007063147810998087, 'EL PALMO': 0.12956510887195952, 'DOS CORRALES': 0.09371572914938436},\n",
        "         'PAMPA DE LEQUE LEQUE':{'SALDAÑA BAJO': 0.0850296232674212,'LA VIÑA': 0.09194587604672444,'EL PALMO':0.039907462823397515,'DOS CORRALES':0.005874046646053649 },\n",
        "         'SALDAÑA BAJO':{'DOS CORRALES': 0.08672309822071995, 'EL PALMO': 0.1225225436562695, 'LA VIÑA':0.007063147810998087,'PAMPA DE LEQUE LEQUE': 0.0850296232674212 }\n",
        "        }"
      ],
      "execution_count": null,
      "outputs": []
    }
  ]
}