{
  "nbformat": 4,
  "nbformat_minor": 0,
  "metadata": {
    "colab": {
      "name": "Brute Force.ipynb",
      "provenance": [],
      "include_colab_link": true
    },
    "kernelspec": {
      "name": "python3",
      "display_name": "Python 3"
    },
    "language_info": {
      "name": "python"
    }
  },
  "cells": [
    {
      "cell_type": "markdown",
      "metadata": {
        "id": "view-in-github",
        "colab_type": "text"
      },
      "source": [
        "<a href=\"https://colab.research.google.com/github/Setsuke/AlgorithmComplexityProject/blob/main/TP/SOL-3/Brute_Force.ipynb\" target=\"_parent\"><img src=\"https://colab.research.google.com/assets/colab-badge.svg\" alt=\"Open In Colab\"/></a>"
      ]
    },
    {
      "cell_type": "markdown",
      "metadata": {
        "id": "lQFpbFuAxhS7"
      },
      "source": [
        "<h1>Fuerza Bruta</h1><br>\n",
        "<b><i>Es una tecnica trivial pero a menudo usada, que consiste en enumerar todo los psibles candidatos para la solución de un problema. </i></b>\n",
        "    <p>Recorremos distintos tipos de caminos necesitando  memoria constante de tal manera que comparemos y obtengamos el menor recorrido de entre todas las soluciones iteradas.</p>"
      ]
    },
    {
      "cell_type": "markdown",
      "metadata": {
        "id": "HHaoIle_P5q_"
      },
      "source": [
        "##Algoritmo en general"
      ]
    },
    {
      "cell_type": "markdown",
      "metadata": {
        "id": "-L9zcuU4ICuH"
      },
      "source": [
        "  \n",
        "  <p>Debido a que permutaremos la cantidad de posibilidades del recorrido, en busqueda del camino más corto, la complejidad de esta solución tendrá un tiempo de ejecución de factor polinómico de orden O((n − 1)!), el factorial del número de centros poblados para esta solución es impracticable.</p>"
      ]
    },
    {
      "cell_type": "markdown",
      "metadata": {
        "id": "-GvmCwXqTdSw"
      },
      "source": [
        "\n",
        "\n",
        "*   10 centro poblados = 9! = 362880  posibilidades\n",
        "*   100 centro poblados = 99! = 9.332622 E+155 posibilidades\n",
        "*   1000 centros poblados = 999! = 10^2565 posibilidades\n",
        "*   Numero de Átamos en el Universo: <(10^100)\n",
        "\n",
        "\n",
        "\n",
        "\n",
        "\n",
        "\n",
        "\n"
      ]
    },
    {
      "cell_type": "code",
      "metadata": {
        "id": "Y7-G5rxlINni"
      },
      "source": [
        "BONGARA ={0: {'Destino': 'NUEVA ESPERANZA',\n",
        "  'Distancia': 0.011859396822775873,\n",
        "  'Origen': 'MITOPAMPA'},\n",
        " 1: {'Destino': 'PEDRO RUIZ GALLO',\n",
        "  'Distancia': 0.01213002658693548,\n",
        "  'Origen': 'MITOPAMPA'},\n",
        " 2: {'Destino': 'PEDRO RUIZ',\n",
        "  'Distancia': 0.011251453417214133,\n",
        "  'Origen': 'MITOPAMPA'},\n",
        " 3: {'Destino': 'SAN JERONIMO',\n",
        "  'Distancia': 0.01797385223038469,\n",
        "  'Origen': 'MITOPAMPA'},\n",
        " 4: {'Destino': 'SANTA ROSA',\n",
        "  'Distancia': 0.009350003048115589,\n",
        "  'Origen': 'MITOPAMPA'},\n",
        " 5: {'Destino': 'SEÑOR DE GUALAMITA',\n",
        "  'Distancia': 0.009957913887952159,\n",
        "  'Origen': 'MITOPAMPA'},\n",
        " 6: {'Destino': 'VILLA ERNESTINA',\n",
        "  'Distancia': 0.01311083826457524,\n",
        "  'Origen': 'MITOPAMPA'},\n",
        " 7: {'Destino': 'MITOPAMPA',\n",
        "  'Distancia': 0.011859396822775873,\n",
        "  'Origen': 'NUEVA ESPERANZA'},\n",
        " 8: {'Destino': 'PEDRO RUIZ GALLO',\n",
        "  'Distancia': 0.005914953423315694,\n",
        "  'Origen': 'NUEVA ESPERANZA'},\n",
        " 9: {'Destino': 'PEDRO RUIZ',\n",
        "  'Distancia': 0.005223723671865547,\n",
        "  'Origen': 'NUEVA ESPERANZA'},\n",
        " 10: {'Destino': 'SAN JERONIMO',\n",
        "  'Distancia': 0.015026174130493977,\n",
        "  'Origen': 'NUEVA ESPERANZA'},\n",
        " 11: {'Destino': 'SANTA ROSA',\n",
        "  'Distancia': 0.0057186972292811115,\n",
        "  'Origen': 'NUEVA ESPERANZA'},\n",
        " 12: {'Destino': 'SEÑOR DE GUALAMITA',\n",
        "  'Distancia': 0.0020898693739183133,\n",
        "  'Origen': 'NUEVA ESPERANZA'},\n",
        " 13: {'Destino': 'VILLA ERNESTINA',\n",
        "  'Distancia': 0.001262009904865845,\n",
        "  'Origen': 'NUEVA ESPERANZA'},\n",
        " 14: {'Destino': 'MITOPAMPA',\n",
        "  'Distancia': 0.01213002658693548,\n",
        "  'Origen': 'PEDRO RUIZ GALLO'},\n",
        " 15: {'Destino': 'NUEVA ESPERANZA',\n",
        "  'Distancia': 0.005914953423315694,\n",
        "  'Origen': 'PEDRO RUIZ GALLO'},\n",
        " 16: {'Destino': 'PEDRO RUIZ',\n",
        "  'Distancia': 0.0010224054968568672,\n",
        "  'Origen': 'PEDRO RUIZ GALLO'},\n",
        " 17: {'Destino': 'SAN JERONIMO',\n",
        "  'Distancia': 0.009144362908370599,\n",
        "  'Origen': 'PEDRO RUIZ GALLO'},\n",
        " 18: {'Destino': 'SANTA ROSA',\n",
        "  'Distancia': 0.010499559228847587,\n",
        "  'Origen': 'PEDRO RUIZ GALLO'},\n",
        " 19: {'Destino': 'SEÑOR DE GUALAMITA',\n",
        "  'Distancia': 0.006626156955581029,\n",
        "  'Origen': 'PEDRO RUIZ GALLO'},\n",
        " 20: {'Destino': 'VILLA ERNESTINA',\n",
        "  'Distancia': 0.006447357986029015,\n",
        "  'Origen': 'PEDRO RUIZ GALLO'},\n",
        " 21: {'Destino': 'MITOPAMPA',\n",
        "  'Distancia': 0.011251453417214133,\n",
        "  'Origen': 'PEDRO RUIZ'},\n",
        " 22: {'Destino': 'NUEVA ESPERANZA',\n",
        "  'Distancia': 0.005223723671865547,\n",
        "  'Origen': 'PEDRO RUIZ'},\n",
        " 23: {'Destino': 'PEDRO RUIZ GALLO',\n",
        "  'Distancia': 0.0010224054968568672,\n",
        "  'Origen': 'PEDRO RUIZ'},\n",
        " 24: {'Destino': 'SAN JERONIMO',\n",
        "  'Distancia': 0.009990445435514951,\n",
        "  'Origen': 'PEDRO RUIZ'},\n",
        " 25: {'Destino': 'SANTA ROSA',\n",
        "  'Distancia': 0.009536416779904513,\n",
        "  'Origen': 'PEDRO RUIZ'},\n",
        " 26: {'Destino': 'SEÑOR DE GUALAMITA',\n",
        "  'Distancia': 0.005721534147410711,\n",
        "  'Origen': 'PEDRO RUIZ'},\n",
        " 27: {'Destino': 'VILLA ERNESTINA',\n",
        "  'Distancia': 0.005909807780293374,\n",
        "  'Origen': 'PEDRO RUIZ'},\n",
        " 28: {'Destino': 'MITOPAMPA',\n",
        "  'Distancia': 0.01797385223038469,\n",
        "  'Origen': 'SAN JERONIMO'},\n",
        " 29: {'Destino': 'NUEVA ESPERANZA',\n",
        "  'Distancia': 0.015026174130493977,\n",
        "  'Origen': 'SAN JERONIMO'},\n",
        " 30: {'Destino': 'PEDRO RUIZ GALLO',\n",
        "  'Distancia': 0.009144362908370599,\n",
        "  'Origen': 'SAN JERONIMO'},\n",
        " 31: {'Destino': 'PEDRO RUIZ',\n",
        "  'Distancia': 0.009990445435514951,\n",
        "  'Origen': 'SAN JERONIMO'},\n",
        " 32: {'Destino': 'SANTA ROSA',\n",
        "  'Distancia': 0.019422410380796673,\n",
        "  'Origen': 'SAN JERONIMO'},\n",
        " 33: {'Destino': 'SEÑOR DE GUALAMITA',\n",
        "  'Distancia': 0.015708791583058532,\n",
        "  'Origen': 'SAN JERONIMO'},\n",
        " 34: {'Destino': 'VILLA ERNESTINA',\n",
        "  'Distancia': 0.015396843442731312,\n",
        "  'Origen': 'SAN JERONIMO'},\n",
        " 35: {'Destino': 'MITOPAMPA',\n",
        "  'Distancia': 0.009350003048115589,\n",
        "  'Origen': 'SANTA ROSA'},\n",
        " 36: {'Destino': 'NUEVA ESPERANZA',\n",
        "  'Distancia': 0.0057186972292811115,\n",
        "  'Origen': 'SANTA ROSA'},\n",
        " 37: {'Destino': 'PEDRO RUIZ GALLO',\n",
        "  'Distancia': 0.010499559228847587,\n",
        "  'Origen': 'SANTA ROSA'},\n",
        " 38: {'Destino': 'PEDRO RUIZ',\n",
        "  'Distancia': 0.009536416779904513,\n",
        "  'Origen': 'SANTA ROSA'},\n",
        " 39: {'Destino': 'SAN JERONIMO',\n",
        "  'Distancia': 0.019422410380796673,\n",
        "  'Origen': 'SANTA ROSA'},\n",
        " 40: {'Destino': 'SEÑOR DE GUALAMITA',\n",
        "  'Distancia': 0.004004759668201047,\n",
        "  'Origen': 'SANTA ROSA'},\n",
        " 41: {'Destino': 'VILLA ERNESTINA',\n",
        "  'Distancia': 0.006468287949691915,\n",
        "  'Origen': 'SANTA ROSA'},\n",
        " 42: {'Destino': 'MITOPAMPA',\n",
        "  'Distancia': 0.009957913887952159,\n",
        "  'Origen': 'SEÑOR DE GUALAMITA'},\n",
        " 43: {'Destino': 'NUEVA ESPERANZA',\n",
        "  'Distancia': 0.0020898693739183133,\n",
        "  'Origen': 'SEÑOR DE GUALAMITA'},\n",
        " 44: {'Destino': 'PEDRO RUIZ GALLO',\n",
        "  'Distancia': 0.006626156955581029,\n",
        "  'Origen': 'SEÑOR DE GUALAMITA'},\n",
        " 45: {'Destino': 'PEDRO RUIZ',\n",
        "  'Distancia': 0.005721534147410711,\n",
        "  'Origen': 'SEÑOR DE GUALAMITA'},\n",
        " 46: {'Destino': 'SAN JERONIMO',\n",
        "  'Distancia': 0.015708791583058532,\n",
        "  'Origen': 'SEÑOR DE GUALAMITA'},\n",
        " 47: {'Destino': 'SANTA ROSA',\n",
        "  'Distancia': 0.004004759668201047,\n",
        "  'Origen': 'SEÑOR DE GUALAMITA'},\n",
        " 48: {'Destino': 'VILLA ERNESTINA',\n",
        "  'Distancia': 0.003243812725791527,\n",
        "  'Origen': 'SEÑOR DE GUALAMITA'},\n",
        " 49: {'Destino': 'MITOPAMPA',\n",
        "  'Distancia': 0.01311083826457524,\n",
        "  'Origen': 'VILLA ERNESTINA'},\n",
        " 50: {'Destino': 'NUEVA ESPERANZA',\n",
        "  'Distancia': 0.001262009904865845,\n",
        "  'Origen': 'VILLA ERNESTINA'},\n",
        " 51: {'Destino': 'PEDRO RUIZ GALLO',\n",
        "  'Distancia': 0.006447357986029015,\n",
        "  'Origen': 'VILLA ERNESTINA'},\n",
        " 52: {'Destino': 'PEDRO RUIZ',\n",
        "  'Distancia': 0.005909807780293374,\n",
        "  'Origen': 'VILLA ERNESTINA'},\n",
        " 53: {'Destino': 'SAN JERONIMO',\n",
        "  'Distancia': 0.015396843442731312,\n",
        "  'Origen': 'VILLA ERNESTINA'},\n",
        " 54: {'Destino': 'SANTA ROSA',\n",
        "  'Distancia': 0.006468287949691915,\n",
        "  'Origen': 'VILLA ERNESTINA'},\n",
        " 55: {'Destino': 'SEÑOR DE GUALAMITA',\n",
        "  'Distancia': 0.003243812725791527,\n",
        "  'Origen': 'VILLA ERNESTINA'}\n",
        "}"
      ],
      "execution_count": null,
      "outputs": []
    },
    {
      "cell_type": "code",
      "metadata": {
        "colab": {
          "base_uri": "https://localhost:8080/"
        },
        "id": "Sk8fLrmppcBJ",
        "outputId": "9312770a-364f-4d7e-9485-7fe77f574557"
      },
      "source": [
        "dictionary = {}\n",
        "for i in BONGARA: \n",
        "  a = BONGARA[i]['Origen']\n",
        "  dictionary[a] =[]\n",
        "\n",
        "for i in BONGARA:\n",
        "  a = BONGARA[i]['Origen']\n",
        "  b = BONGARA[i]['Destino']\n",
        "  c = BONGARA[i]['Distancia'] \n",
        "  midict = {b:c}\n",
        "  dictionary[a].append(midict)\n",
        "\n",
        "dictionary"
      ],
      "execution_count": null,
      "outputs": [
        {
          "output_type": "execute_result",
          "data": {
            "text/plain": [
              "{'MITOPAMPA': [{'NUEVA ESPERANZA': 0.011859396822775873},\n",
              "  {'PEDRO RUIZ GALLO': 0.01213002658693548},\n",
              "  {'PEDRO RUIZ': 0.011251453417214133},\n",
              "  {'SAN JERONIMO': 0.01797385223038469},\n",
              "  {'SANTA ROSA': 0.009350003048115589},\n",
              "  {'SEÑOR DE GUALAMITA': 0.009957913887952159},\n",
              "  {'VILLA ERNESTINA': 0.01311083826457524}],\n",
              " 'NUEVA ESPERANZA': [{'MITOPAMPA': 0.011859396822775873},\n",
              "  {'PEDRO RUIZ GALLO': 0.005914953423315694},\n",
              "  {'PEDRO RUIZ': 0.005223723671865547},\n",
              "  {'SAN JERONIMO': 0.015026174130493977},\n",
              "  {'SANTA ROSA': 0.0057186972292811115},\n",
              "  {'SEÑOR DE GUALAMITA': 0.0020898693739183133},\n",
              "  {'VILLA ERNESTINA': 0.001262009904865845}],\n",
              " 'PEDRO RUIZ': [{'MITOPAMPA': 0.011251453417214133},\n",
              "  {'NUEVA ESPERANZA': 0.005223723671865547},\n",
              "  {'PEDRO RUIZ GALLO': 0.0010224054968568672},\n",
              "  {'SAN JERONIMO': 0.009990445435514951},\n",
              "  {'SANTA ROSA': 0.009536416779904513},\n",
              "  {'SEÑOR DE GUALAMITA': 0.005721534147410711},\n",
              "  {'VILLA ERNESTINA': 0.005909807780293374}],\n",
              " 'PEDRO RUIZ GALLO': [{'MITOPAMPA': 0.01213002658693548},\n",
              "  {'NUEVA ESPERANZA': 0.005914953423315694},\n",
              "  {'PEDRO RUIZ': 0.0010224054968568672},\n",
              "  {'SAN JERONIMO': 0.009144362908370599},\n",
              "  {'SANTA ROSA': 0.010499559228847587},\n",
              "  {'SEÑOR DE GUALAMITA': 0.006626156955581029},\n",
              "  {'VILLA ERNESTINA': 0.006447357986029015}],\n",
              " 'SAN JERONIMO': [{'MITOPAMPA': 0.01797385223038469},\n",
              "  {'NUEVA ESPERANZA': 0.015026174130493977},\n",
              "  {'PEDRO RUIZ GALLO': 0.009144362908370599},\n",
              "  {'PEDRO RUIZ': 0.009990445435514951},\n",
              "  {'SANTA ROSA': 0.019422410380796673},\n",
              "  {'SEÑOR DE GUALAMITA': 0.015708791583058532},\n",
              "  {'VILLA ERNESTINA': 0.015396843442731312}],\n",
              " 'SANTA ROSA': [{'MITOPAMPA': 0.009350003048115589},\n",
              "  {'NUEVA ESPERANZA': 0.0057186972292811115},\n",
              "  {'PEDRO RUIZ GALLO': 0.010499559228847587},\n",
              "  {'PEDRO RUIZ': 0.009536416779904513},\n",
              "  {'SAN JERONIMO': 0.019422410380796673},\n",
              "  {'SEÑOR DE GUALAMITA': 0.004004759668201047},\n",
              "  {'VILLA ERNESTINA': 0.006468287949691915}],\n",
              " 'SEÑOR DE GUALAMITA': [{'MITOPAMPA': 0.009957913887952159},\n",
              "  {'NUEVA ESPERANZA': 0.0020898693739183133},\n",
              "  {'PEDRO RUIZ GALLO': 0.006626156955581029},\n",
              "  {'PEDRO RUIZ': 0.005721534147410711},\n",
              "  {'SAN JERONIMO': 0.015708791583058532},\n",
              "  {'SANTA ROSA': 0.004004759668201047},\n",
              "  {'VILLA ERNESTINA': 0.003243812725791527}],\n",
              " 'VILLA ERNESTINA': [{'MITOPAMPA': 0.01311083826457524},\n",
              "  {'NUEVA ESPERANZA': 0.001262009904865845},\n",
              "  {'PEDRO RUIZ GALLO': 0.006447357986029015},\n",
              "  {'PEDRO RUIZ': 0.005909807780293374},\n",
              "  {'SAN JERONIMO': 0.015396843442731312},\n",
              "  {'SANTA ROSA': 0.006468287949691915},\n",
              "  {'SEÑOR DE GUALAMITA': 0.003243812725791527}]}"
            ]
          },
          "metadata": {
            "tags": []
          },
          "execution_count": 3
        }
      ]
    },
    {
      "cell_type": "code",
      "metadata": {
        "colab": {
          "base_uri": "https://localhost:8080/"
        },
        "id": "Ud2s6DB2rC5V",
        "outputId": "67eccc6e-ef2f-4345-b48a-fb132ebe2701"
      },
      "source": [
        "import heapq as pq #priority queue\n",
        "import math\n",
        "\n",
        "#Listas de adyacencia para cada nodo\n",
        "adj = [[] for _ in range(len(dictionary))]\n",
        "i = -1\n",
        "vis = {}\n",
        "dis = {}\n",
        "path = []\n",
        "for origen in dictionary.keys():\n",
        "  #print(origen)\n",
        "  a = origen\n",
        "  vis[a] = False\n",
        "  dis[a] = math.inf\n",
        "  i = i + 1\n",
        "\n",
        "  for destino_dict in dictionary[origen]:\n",
        "    #print(destino_dict)\n",
        "    for z,key in enumerate(destino_dict):\n",
        "      #print(key)\n",
        "      #print(destino_dict[key])\n",
        "      b = key\n",
        "      c = destino_dict[key]\n",
        "      adj[i].append((b,c))\n",
        "  #for destino in JAZAN[origen].keys():\n",
        "    #print(cities[origen][destino])\n",
        "    #b = destino\n",
        "    #c = JAZAN[origen][destino]\n",
        "    #adj[i].append((b,c))\n",
        "adj"
      ],
      "execution_count": null,
      "outputs": [
        {
          "output_type": "execute_result",
          "data": {
            "text/plain": [
              "[[('NUEVA ESPERANZA', 0.011859396822775873),\n",
              "  ('PEDRO RUIZ GALLO', 0.01213002658693548),\n",
              "  ('PEDRO RUIZ', 0.011251453417214133),\n",
              "  ('SAN JERONIMO', 0.01797385223038469),\n",
              "  ('SANTA ROSA', 0.009350003048115589),\n",
              "  ('SEÑOR DE GUALAMITA', 0.009957913887952159),\n",
              "  ('VILLA ERNESTINA', 0.01311083826457524)],\n",
              " [('MITOPAMPA', 0.011859396822775873),\n",
              "  ('PEDRO RUIZ GALLO', 0.005914953423315694),\n",
              "  ('PEDRO RUIZ', 0.005223723671865547),\n",
              "  ('SAN JERONIMO', 0.015026174130493977),\n",
              "  ('SANTA ROSA', 0.0057186972292811115),\n",
              "  ('SEÑOR DE GUALAMITA', 0.0020898693739183133),\n",
              "  ('VILLA ERNESTINA', 0.001262009904865845)],\n",
              " [('MITOPAMPA', 0.01213002658693548),\n",
              "  ('NUEVA ESPERANZA', 0.005914953423315694),\n",
              "  ('PEDRO RUIZ', 0.0010224054968568672),\n",
              "  ('SAN JERONIMO', 0.009144362908370599),\n",
              "  ('SANTA ROSA', 0.010499559228847587),\n",
              "  ('SEÑOR DE GUALAMITA', 0.006626156955581029),\n",
              "  ('VILLA ERNESTINA', 0.006447357986029015)],\n",
              " [('MITOPAMPA', 0.011251453417214133),\n",
              "  ('NUEVA ESPERANZA', 0.005223723671865547),\n",
              "  ('PEDRO RUIZ GALLO', 0.0010224054968568672),\n",
              "  ('SAN JERONIMO', 0.009990445435514951),\n",
              "  ('SANTA ROSA', 0.009536416779904513),\n",
              "  ('SEÑOR DE GUALAMITA', 0.005721534147410711),\n",
              "  ('VILLA ERNESTINA', 0.005909807780293374)],\n",
              " [('MITOPAMPA', 0.01797385223038469),\n",
              "  ('NUEVA ESPERANZA', 0.015026174130493977),\n",
              "  ('PEDRO RUIZ GALLO', 0.009144362908370599),\n",
              "  ('PEDRO RUIZ', 0.009990445435514951),\n",
              "  ('SANTA ROSA', 0.019422410380796673),\n",
              "  ('SEÑOR DE GUALAMITA', 0.015708791583058532),\n",
              "  ('VILLA ERNESTINA', 0.015396843442731312)],\n",
              " [('MITOPAMPA', 0.009350003048115589),\n",
              "  ('NUEVA ESPERANZA', 0.0057186972292811115),\n",
              "  ('PEDRO RUIZ GALLO', 0.010499559228847587),\n",
              "  ('PEDRO RUIZ', 0.009536416779904513),\n",
              "  ('SAN JERONIMO', 0.019422410380796673),\n",
              "  ('SEÑOR DE GUALAMITA', 0.004004759668201047),\n",
              "  ('VILLA ERNESTINA', 0.006468287949691915)],\n",
              " [('MITOPAMPA', 0.009957913887952159),\n",
              "  ('NUEVA ESPERANZA', 0.0020898693739183133),\n",
              "  ('PEDRO RUIZ GALLO', 0.006626156955581029),\n",
              "  ('PEDRO RUIZ', 0.005721534147410711),\n",
              "  ('SAN JERONIMO', 0.015708791583058532),\n",
              "  ('SANTA ROSA', 0.004004759668201047),\n",
              "  ('VILLA ERNESTINA', 0.003243812725791527)],\n",
              " [('MITOPAMPA', 0.01311083826457524),\n",
              "  ('NUEVA ESPERANZA', 0.001262009904865845),\n",
              "  ('PEDRO RUIZ GALLO', 0.006447357986029015),\n",
              "  ('PEDRO RUIZ', 0.005909807780293374),\n",
              "  ('SAN JERONIMO', 0.015396843442731312),\n",
              "  ('SANTA ROSA', 0.006468287949691915),\n",
              "  ('SEÑOR DE GUALAMITA', 0.003243812725791527)]]"
            ]
          },
          "metadata": {
            "tags": []
          },
          "execution_count": 9
        }
      ]
    },
    {
      "cell_type": "code",
      "metadata": {
        "id": "rt9nxUizqT83"
      },
      "source": [
        "import sys\n",
        "from itertools import permutations\n",
        "route=[]\n",
        "for i in range(len(adj)):\n",
        "  arr=permutations(adj[i])\n",
        "  route.append(arr)"
      ],
      "execution_count": null,
      "outputs": []
    },
    {
      "cell_type": "code",
      "metadata": {
        "colab": {
          "base_uri": "https://localhost:8080/"
        },
        "id": "AkB3YCCG1Lmk",
        "outputId": "1634d79d-8473-4f72-8420-3ea104d45d85"
      },
      "source": [
        "print(sys.getsizeof(route))"
      ],
      "execution_count": null,
      "outputs": [
        {
          "output_type": "stream",
          "text": [
            "136\n"
          ],
          "name": "stdout"
        }
      ]
    }
  ]
}