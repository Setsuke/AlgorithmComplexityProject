{
  "nbformat": 4,
  "nbformat_minor": 0,
  "metadata": {
    "colab": {
      "name": "Sol-Dijkstra.ipynb",
      "provenance": [],
      "collapsed_sections": []
    },
    "kernelspec": {
      "name": "python3",
      "display_name": "Python 3"
    },
    "language_info": {
      "name": "python"
    }
  },
  "cells": [
    {
      "cell_type": "markdown",
      "metadata": {
        "id": "vmRti1LAxTot"
      },
      "source": [
        "<h1>Algoritmo Dijkstra</h1><br>\n",
        "<b><i> También llamado algoritmo de caminos mínimos, es un algoritmo para la determinación del camino más corto dado un vértice origen al resto de vértices en un grafo con pesos en cada arista. </i></b>\n",
        "    <p>Su nombre se refiere a Edsger Dijkstra, quien lo describió por primera vez en 1959.</p>"
      ]
    },
    {
      "cell_type": "markdown",
      "metadata": {
        "id": "R8ARTBnd6iQ9"
      },
      "source": [
        "##Definición de entrada"
      ]
    },
    {
      "cell_type": "markdown",
      "metadata": {
        "id": "aSlK428U6YMe"
      },
      "source": [
        "Para usar el algoritmo de <code>Dijkstra</code> utilizaremos una lista de adyacencia que se generará a partir de la lectura \n",
        "de los datos de las provincias, distritos y centros poblados. También usaremos un dict de visitados y un dict de distancias\n",
        "en lugar de listas ya que los nodos tienen como indentificador un nombre y no un número.  \n"
      ]
    },
    {
      "cell_type": "code",
      "metadata": {
        "id": "3WZ10zcOxQbE"
      },
      "source": [
        "import heapq as pq #priority queue\n",
        "import math\n",
        "\n",
        "vis = {}\n",
        "dis = {}\n",
        "adj = [[] for _ in range(len(cities))]\n",
        "\n",
        "def dijkstra(n: int, adj: list, start: str):\n",
        "        \n",
        "    q = [] # cola de prioridad\n",
        "    dis[start] = 0\n",
        "\n",
        "    # En nuestra cola vamos a llevar \n",
        "    # pares (w, v) = (weight, vertex) = (peso, vertice/nodo)\n",
        "    # por qué no (v, w) -> las tuplas se ordenan \n",
        "    # lexicograficamente por defecto\n",
        "\n",
        "    pq.heappush(q, (0, start)) \n",
        "\n",
        "    while len(q) > 0:\n",
        "        _, v = pq.heappop(q)\n",
        "\n",
        "        if vis[v]: # Si ya lo he visitado antes, no hago nada\n",
        "            continue \n",
        "\n",
        "        vis[v] = True\n",
        "        index = list(vis).index(v)\n",
        "        for e, w in adj[index]: # Recorro vecinos\n",
        "            # Si he encontrado una nueva ruta para\n",
        "            # llegar al vecino 'e' a través de 'v' usando\n",
        "            # la arista con peso 'w', meto esa opción\n",
        "            # a la cola de prioridad\n",
        "            \n",
        "            if dis[v] + w < dis[e] and vis[e] == False:\n",
        "                dis[e] = dis[v] + w\n",
        "                pq.heappush(q, (dis[e], e))\n",
        "\n",
        "    return dis"
      ],
      "execution_count": null,
      "outputs": []
    },
    {
      "cell_type": "markdown",
      "metadata": {
        "id": "X-1NyoAt6Wh3"
      },
      "source": [
        "\n",
        "##Descripción del algoritmo implementado"
      ]
    },
    {
      "cell_type": "markdown",
      "metadata": {
        "id": "BsWDREYH6xBO"
      },
      "source": [
        "El <code>Dijkstra</code> va iterar por todos los keys de centros poblados por cada key de distrito en los dicts. Guardará en una lista para cada uno sus vecinos adyacentes. Luego con una <code>cola de prioridad</code> almacenaremos los vecinos de cada nodo para ordenarlos por peso y tomar ello como criterio para comenzar a recorrer el algoritmo y encontrar el camino más corto por cual se llega a todos partiendo de un nodo en especifico. Se marcarán nodos como <code>visitados</code> para no volverlos a iterar y sus <code>pesos</code> también se sobreescribirán si es que se encuentra un camino más cerca en el recorrido para llegar a ellos."
      ]
    },
    {
      "cell_type": "code",
      "metadata": {
        "id": "005VrSELR9bq"
      },
      "source": [
        "#Data de ejemplo PROVINCIA DE BONGARA\n",
        "BONGARA ={0: {'Destino': 'NUEVA ESPERANZA',\n",
        "  'Distancia': 0.011859396822775873,\n",
        "  'Origen': 'MITOPAMPA'},\n",
        " 1: {'Destino': 'PEDRO RUIZ GALLO',\n",
        "  'Distancia': 0.01213002658693548,\n",
        "  'Origen': 'MITOPAMPA'},\n",
        " 2: {'Destino': 'PEDRO RUIZ',\n",
        "  'Distancia': 0.011251453417214133,\n",
        "  'Origen': 'MITOPAMPA'},\n",
        " 3: {'Destino': 'SAN JERONIMO',\n",
        "  'Distancia': 0.01797385223038469,\n",
        "  'Origen': 'MITOPAMPA'},\n",
        " 4: {'Destino': 'SANTA ROSA',\n",
        "  'Distancia': 0.009350003048115589,\n",
        "  'Origen': 'MITOPAMPA'},\n",
        " 5: {'Destino': 'SEÑOR DE GUALAMITA',\n",
        "  'Distancia': 0.009957913887952159,\n",
        "  'Origen': 'MITOPAMPA'},\n",
        " 6: {'Destino': 'VILLA ERNESTINA',\n",
        "  'Distancia': 0.01311083826457524,\n",
        "  'Origen': 'MITOPAMPA'},\n",
        " 7: {'Destino': 'MITOPAMPA',\n",
        "  'Distancia': 0.011859396822775873,\n",
        "  'Origen': 'NUEVA ESPERANZA'},\n",
        " 8: {'Destino': 'PEDRO RUIZ GALLO',\n",
        "  'Distancia': 0.005914953423315694,\n",
        "  'Origen': 'NUEVA ESPERANZA'},\n",
        " 9: {'Destino': 'PEDRO RUIZ',\n",
        "  'Distancia': 0.005223723671865547,\n",
        "  'Origen': 'NUEVA ESPERANZA'},\n",
        " 10: {'Destino': 'SAN JERONIMO',\n",
        "  'Distancia': 0.015026174130493977,\n",
        "  'Origen': 'NUEVA ESPERANZA'},\n",
        " 11: {'Destino': 'SANTA ROSA',\n",
        "  'Distancia': 0.0057186972292811115,\n",
        "  'Origen': 'NUEVA ESPERANZA'},\n",
        " 12: {'Destino': 'SEÑOR DE GUALAMITA',\n",
        "  'Distancia': 0.0020898693739183133,\n",
        "  'Origen': 'NUEVA ESPERANZA'},\n",
        " 13: {'Destino': 'VILLA ERNESTINA',\n",
        "  'Distancia': 0.001262009904865845,\n",
        "  'Origen': 'NUEVA ESPERANZA'},\n",
        " 14: {'Destino': 'MITOPAMPA',\n",
        "  'Distancia': 0.01213002658693548,\n",
        "  'Origen': 'PEDRO RUIZ GALLO'},\n",
        " 15: {'Destino': 'NUEVA ESPERANZA',\n",
        "  'Distancia': 0.005914953423315694,\n",
        "  'Origen': 'PEDRO RUIZ GALLO'},\n",
        " 16: {'Destino': 'PEDRO RUIZ',\n",
        "  'Distancia': 0.0010224054968568672,\n",
        "  'Origen': 'PEDRO RUIZ GALLO'},\n",
        " 17: {'Destino': 'SAN JERONIMO',\n",
        "  'Distancia': 0.009144362908370599,\n",
        "  'Origen': 'PEDRO RUIZ GALLO'},\n",
        " 18: {'Destino': 'SANTA ROSA',\n",
        "  'Distancia': 0.010499559228847587,\n",
        "  'Origen': 'PEDRO RUIZ GALLO'},\n",
        " 19: {'Destino': 'SEÑOR DE GUALAMITA',\n",
        "  'Distancia': 0.006626156955581029,\n",
        "  'Origen': 'PEDRO RUIZ GALLO'},\n",
        " 20: {'Destino': 'VILLA ERNESTINA',\n",
        "  'Distancia': 0.006447357986029015,\n",
        "  'Origen': 'PEDRO RUIZ GALLO'},\n",
        " 21: {'Destino': 'MITOPAMPA',\n",
        "  'Distancia': 0.011251453417214133,\n",
        "  'Origen': 'PEDRO RUIZ'},\n",
        " 22: {'Destino': 'NUEVA ESPERANZA',\n",
        "  'Distancia': 0.005223723671865547,\n",
        "  'Origen': 'PEDRO RUIZ'},\n",
        " 23: {'Destino': 'PEDRO RUIZ GALLO',\n",
        "  'Distancia': 0.0010224054968568672,\n",
        "  'Origen': 'PEDRO RUIZ'},\n",
        " 24: {'Destino': 'SAN JERONIMO',\n",
        "  'Distancia': 0.009990445435514951,\n",
        "  'Origen': 'PEDRO RUIZ'},\n",
        " 25: {'Destino': 'SANTA ROSA',\n",
        "  'Distancia': 0.009536416779904513,\n",
        "  'Origen': 'PEDRO RUIZ'},\n",
        " 26: {'Destino': 'SEÑOR DE GUALAMITA',\n",
        "  'Distancia': 0.005721534147410711,\n",
        "  'Origen': 'PEDRO RUIZ'},\n",
        " 27: {'Destino': 'VILLA ERNESTINA',\n",
        "  'Distancia': 0.005909807780293374,\n",
        "  'Origen': 'PEDRO RUIZ'},\n",
        " 28: {'Destino': 'MITOPAMPA',\n",
        "  'Distancia': 0.01797385223038469,\n",
        "  'Origen': 'SAN JERONIMO'},\n",
        " 29: {'Destino': 'NUEVA ESPERANZA',\n",
        "  'Distancia': 0.015026174130493977,\n",
        "  'Origen': 'SAN JERONIMO'},\n",
        " 30: {'Destino': 'PEDRO RUIZ GALLO',\n",
        "  'Distancia': 0.009144362908370599,\n",
        "  'Origen': 'SAN JERONIMO'},\n",
        " 31: {'Destino': 'PEDRO RUIZ',\n",
        "  'Distancia': 0.009990445435514951,\n",
        "  'Origen': 'SAN JERONIMO'},\n",
        " 32: {'Destino': 'SANTA ROSA',\n",
        "  'Distancia': 0.019422410380796673,\n",
        "  'Origen': 'SAN JERONIMO'},\n",
        " 33: {'Destino': 'SEÑOR DE GUALAMITA',\n",
        "  'Distancia': 0.015708791583058532,\n",
        "  'Origen': 'SAN JERONIMO'},\n",
        " 34: {'Destino': 'VILLA ERNESTINA',\n",
        "  'Distancia': 0.015396843442731312,\n",
        "  'Origen': 'SAN JERONIMO'},\n",
        " 35: {'Destino': 'MITOPAMPA',\n",
        "  'Distancia': 0.009350003048115589,\n",
        "  'Origen': 'SANTA ROSA'},\n",
        " 36: {'Destino': 'NUEVA ESPERANZA',\n",
        "  'Distancia': 0.0057186972292811115,\n",
        "  'Origen': 'SANTA ROSA'},\n",
        " 37: {'Destino': 'PEDRO RUIZ GALLO',\n",
        "  'Distancia': 0.010499559228847587,\n",
        "  'Origen': 'SANTA ROSA'},\n",
        " 38: {'Destino': 'PEDRO RUIZ',\n",
        "  'Distancia': 0.009536416779904513,\n",
        "  'Origen': 'SANTA ROSA'},\n",
        " 39: {'Destino': 'SAN JERONIMO',\n",
        "  'Distancia': 0.019422410380796673,\n",
        "  'Origen': 'SANTA ROSA'},\n",
        " 40: {'Destino': 'SEÑOR DE GUALAMITA',\n",
        "  'Distancia': 0.004004759668201047,\n",
        "  'Origen': 'SANTA ROSA'},\n",
        " 41: {'Destino': 'VILLA ERNESTINA',\n",
        "  'Distancia': 0.006468287949691915,\n",
        "  'Origen': 'SANTA ROSA'},\n",
        " 42: {'Destino': 'MITOPAMPA',\n",
        "  'Distancia': 0.009957913887952159,\n",
        "  'Origen': 'SEÑOR DE GUALAMITA'},\n",
        " 43: {'Destino': 'NUEVA ESPERANZA',\n",
        "  'Distancia': 0.0020898693739183133,\n",
        "  'Origen': 'SEÑOR DE GUALAMITA'},\n",
        " 44: {'Destino': 'PEDRO RUIZ GALLO',\n",
        "  'Distancia': 0.006626156955581029,\n",
        "  'Origen': 'SEÑOR DE GUALAMITA'},\n",
        " 45: {'Destino': 'PEDRO RUIZ',\n",
        "  'Distancia': 0.005721534147410711,\n",
        "  'Origen': 'SEÑOR DE GUALAMITA'},\n",
        " 46: {'Destino': 'SAN JERONIMO',\n",
        "  'Distancia': 0.015708791583058532,\n",
        "  'Origen': 'SEÑOR DE GUALAMITA'},\n",
        " 47: {'Destino': 'SANTA ROSA',\n",
        "  'Distancia': 0.004004759668201047,\n",
        "  'Origen': 'SEÑOR DE GUALAMITA'},\n",
        " 48: {'Destino': 'VILLA ERNESTINA',\n",
        "  'Distancia': 0.003243812725791527,\n",
        "  'Origen': 'SEÑOR DE GUALAMITA'},\n",
        " 49: {'Destino': 'MITOPAMPA',\n",
        "  'Distancia': 0.01311083826457524,\n",
        "  'Origen': 'VILLA ERNESTINA'},\n",
        " 50: {'Destino': 'NUEVA ESPERANZA',\n",
        "  'Distancia': 0.001262009904865845,\n",
        "  'Origen': 'VILLA ERNESTINA'},\n",
        " 51: {'Destino': 'PEDRO RUIZ GALLO',\n",
        "  'Distancia': 0.006447357986029015,\n",
        "  'Origen': 'VILLA ERNESTINA'},\n",
        " 52: {'Destino': 'PEDRO RUIZ',\n",
        "  'Distancia': 0.005909807780293374,\n",
        "  'Origen': 'VILLA ERNESTINA'},\n",
        " 53: {'Destino': 'SAN JERONIMO',\n",
        "  'Distancia': 0.015396843442731312,\n",
        "  'Origen': 'VILLA ERNESTINA'},\n",
        " 54: {'Destino': 'SANTA ROSA',\n",
        "  'Distancia': 0.006468287949691915,\n",
        "  'Origen': 'VILLA ERNESTINA'},\n",
        " 55: {'Destino': 'SEÑOR DE GUALAMITA',\n",
        "  'Distancia': 0.003243812725791527,\n",
        "  'Origen': 'VILLA ERNESTINA'}}"
      ],
      "execution_count": 2,
      "outputs": []
    },
    {
      "cell_type": "code",
      "metadata": {
        "colab": {
          "base_uri": "https://localhost:8080/"
        },
        "id": "pUrbIP7_SL7P",
        "outputId": "c379c281-f30b-4c84-8e14-b10b4de72ad6"
      },
      "source": [
        "dictionary = {}\n",
        "for i in BONGARA: \n",
        "  a = BONGARA[i]['Origen']\n",
        "  dictionary[a] =[]\n",
        "\n",
        "for i in BONGARA:\n",
        "  a = BONGARA[i]['Origen']\n",
        "  b = BONGARA[i]['Destino']\n",
        "  c = BONGARA[i]['Distancia'] \n",
        "  midict = {b:c}\n",
        "  dictionary[a].append(midict)\n",
        "\n",
        "dictionary"
      ],
      "execution_count": 3,
      "outputs": [
        {
          "output_type": "execute_result",
          "data": {
            "text/plain": [
              "{'MITOPAMPA': [{'NUEVA ESPERANZA': 0.011859396822775873},\n",
              "  {'PEDRO RUIZ GALLO': 0.01213002658693548},\n",
              "  {'PEDRO RUIZ': 0.011251453417214133},\n",
              "  {'SAN JERONIMO': 0.01797385223038469},\n",
              "  {'SANTA ROSA': 0.009350003048115589},\n",
              "  {'SEÑOR DE GUALAMITA': 0.009957913887952159},\n",
              "  {'VILLA ERNESTINA': 0.01311083826457524}],\n",
              " 'NUEVA ESPERANZA': [{'MITOPAMPA': 0.011859396822775873},\n",
              "  {'PEDRO RUIZ GALLO': 0.005914953423315694},\n",
              "  {'PEDRO RUIZ': 0.005223723671865547},\n",
              "  {'SAN JERONIMO': 0.015026174130493977},\n",
              "  {'SANTA ROSA': 0.0057186972292811115},\n",
              "  {'SEÑOR DE GUALAMITA': 0.0020898693739183133},\n",
              "  {'VILLA ERNESTINA': 0.001262009904865845}],\n",
              " 'PEDRO RUIZ': [{'MITOPAMPA': 0.011251453417214133},\n",
              "  {'NUEVA ESPERANZA': 0.005223723671865547},\n",
              "  {'PEDRO RUIZ GALLO': 0.0010224054968568672},\n",
              "  {'SAN JERONIMO': 0.009990445435514951},\n",
              "  {'SANTA ROSA': 0.009536416779904513},\n",
              "  {'SEÑOR DE GUALAMITA': 0.005721534147410711},\n",
              "  {'VILLA ERNESTINA': 0.005909807780293374}],\n",
              " 'PEDRO RUIZ GALLO': [{'MITOPAMPA': 0.01213002658693548},\n",
              "  {'NUEVA ESPERANZA': 0.005914953423315694},\n",
              "  {'PEDRO RUIZ': 0.0010224054968568672},\n",
              "  {'SAN JERONIMO': 0.009144362908370599},\n",
              "  {'SANTA ROSA': 0.010499559228847587},\n",
              "  {'SEÑOR DE GUALAMITA': 0.006626156955581029},\n",
              "  {'VILLA ERNESTINA': 0.006447357986029015}],\n",
              " 'SAN JERONIMO': [{'MITOPAMPA': 0.01797385223038469},\n",
              "  {'NUEVA ESPERANZA': 0.015026174130493977},\n",
              "  {'PEDRO RUIZ GALLO': 0.009144362908370599},\n",
              "  {'PEDRO RUIZ': 0.009990445435514951},\n",
              "  {'SANTA ROSA': 0.019422410380796673},\n",
              "  {'SEÑOR DE GUALAMITA': 0.015708791583058532},\n",
              "  {'VILLA ERNESTINA': 0.015396843442731312}],\n",
              " 'SANTA ROSA': [{'MITOPAMPA': 0.009350003048115589},\n",
              "  {'NUEVA ESPERANZA': 0.0057186972292811115},\n",
              "  {'PEDRO RUIZ GALLO': 0.010499559228847587},\n",
              "  {'PEDRO RUIZ': 0.009536416779904513},\n",
              "  {'SAN JERONIMO': 0.019422410380796673},\n",
              "  {'SEÑOR DE GUALAMITA': 0.004004759668201047},\n",
              "  {'VILLA ERNESTINA': 0.006468287949691915}],\n",
              " 'SEÑOR DE GUALAMITA': [{'MITOPAMPA': 0.009957913887952159},\n",
              "  {'NUEVA ESPERANZA': 0.0020898693739183133},\n",
              "  {'PEDRO RUIZ GALLO': 0.006626156955581029},\n",
              "  {'PEDRO RUIZ': 0.005721534147410711},\n",
              "  {'SAN JERONIMO': 0.015708791583058532},\n",
              "  {'SANTA ROSA': 0.004004759668201047},\n",
              "  {'VILLA ERNESTINA': 0.003243812725791527}],\n",
              " 'VILLA ERNESTINA': [{'MITOPAMPA': 0.01311083826457524},\n",
              "  {'NUEVA ESPERANZA': 0.001262009904865845},\n",
              "  {'PEDRO RUIZ GALLO': 0.006447357986029015},\n",
              "  {'PEDRO RUIZ': 0.005909807780293374},\n",
              "  {'SAN JERONIMO': 0.015396843442731312},\n",
              "  {'SANTA ROSA': 0.006468287949691915},\n",
              "  {'SEÑOR DE GUALAMITA': 0.003243812725791527}]}"
            ]
          },
          "metadata": {
            "tags": []
          },
          "execution_count": 3
        }
      ]
    },
    {
      "cell_type": "code",
      "metadata": {
        "colab": {
          "base_uri": "https://localhost:8080/"
        },
        "id": "K2ZQ8MIGNnkU",
        "outputId": "c2e167c6-5b28-4b79-9390-2cdcf942e427"
      },
      "source": [
        "import heapq as pq #priority queue\n",
        "import math\n",
        "\n",
        "#Listas de adyacencia para cada nodo\n",
        "adj = [[] for _ in range(len(dictionary))]\n",
        "i = -1\n",
        "vis = {}\n",
        "dis = {}\n",
        "path = {}\n",
        "for origen in dictionary.keys():\n",
        "  #print(origen)\n",
        "  a = origen\n",
        "  vis[a] = False\n",
        "  dis[a] = math.inf\n",
        "  path[a] = '-1'\n",
        "  i = i + 1\n",
        "\n",
        "  for destino_dict in dictionary[origen]:\n",
        "    #print(destino_dict)\n",
        "    for z,key in enumerate(destino_dict):\n",
        "      #print(key)\n",
        "      #print(destino_dict[key])\n",
        "      b = key\n",
        "      c = destino_dict[key]\n",
        "      adj[i].append((b,c))\n",
        "  #for destino in JAZAN[origen].keys():\n",
        "    #print(cities[origen][destino])\n",
        "    #b = destino\n",
        "    #c = JAZAN[origen][destino]\n",
        "    #adj[i].append((b,c))\n",
        "adj"
      ],
      "execution_count": 11,
      "outputs": [
        {
          "output_type": "execute_result",
          "data": {
            "text/plain": [
              "[[('NUEVA ESPERANZA', 0.011859396822775873),\n",
              "  ('PEDRO RUIZ GALLO', 0.01213002658693548),\n",
              "  ('PEDRO RUIZ', 0.011251453417214133),\n",
              "  ('SAN JERONIMO', 0.01797385223038469),\n",
              "  ('SANTA ROSA', 0.009350003048115589),\n",
              "  ('SEÑOR DE GUALAMITA', 0.009957913887952159),\n",
              "  ('VILLA ERNESTINA', 0.01311083826457524)],\n",
              " [('MITOPAMPA', 0.011859396822775873),\n",
              "  ('PEDRO RUIZ GALLO', 0.005914953423315694),\n",
              "  ('PEDRO RUIZ', 0.005223723671865547),\n",
              "  ('SAN JERONIMO', 0.015026174130493977),\n",
              "  ('SANTA ROSA', 0.0057186972292811115),\n",
              "  ('SEÑOR DE GUALAMITA', 0.0020898693739183133),\n",
              "  ('VILLA ERNESTINA', 0.001262009904865845)],\n",
              " [('MITOPAMPA', 0.01213002658693548),\n",
              "  ('NUEVA ESPERANZA', 0.005914953423315694),\n",
              "  ('PEDRO RUIZ', 0.0010224054968568672),\n",
              "  ('SAN JERONIMO', 0.009144362908370599),\n",
              "  ('SANTA ROSA', 0.010499559228847587),\n",
              "  ('SEÑOR DE GUALAMITA', 0.006626156955581029),\n",
              "  ('VILLA ERNESTINA', 0.006447357986029015)],\n",
              " [('MITOPAMPA', 0.011251453417214133),\n",
              "  ('NUEVA ESPERANZA', 0.005223723671865547),\n",
              "  ('PEDRO RUIZ GALLO', 0.0010224054968568672),\n",
              "  ('SAN JERONIMO', 0.009990445435514951),\n",
              "  ('SANTA ROSA', 0.009536416779904513),\n",
              "  ('SEÑOR DE GUALAMITA', 0.005721534147410711),\n",
              "  ('VILLA ERNESTINA', 0.005909807780293374)],\n",
              " [('MITOPAMPA', 0.01797385223038469),\n",
              "  ('NUEVA ESPERANZA', 0.015026174130493977),\n",
              "  ('PEDRO RUIZ GALLO', 0.009144362908370599),\n",
              "  ('PEDRO RUIZ', 0.009990445435514951),\n",
              "  ('SANTA ROSA', 0.019422410380796673),\n",
              "  ('SEÑOR DE GUALAMITA', 0.015708791583058532),\n",
              "  ('VILLA ERNESTINA', 0.015396843442731312)],\n",
              " [('MITOPAMPA', 0.009350003048115589),\n",
              "  ('NUEVA ESPERANZA', 0.0057186972292811115),\n",
              "  ('PEDRO RUIZ GALLO', 0.010499559228847587),\n",
              "  ('PEDRO RUIZ', 0.009536416779904513),\n",
              "  ('SAN JERONIMO', 0.019422410380796673),\n",
              "  ('SEÑOR DE GUALAMITA', 0.004004759668201047),\n",
              "  ('VILLA ERNESTINA', 0.006468287949691915)],\n",
              " [('MITOPAMPA', 0.009957913887952159),\n",
              "  ('NUEVA ESPERANZA', 0.0020898693739183133),\n",
              "  ('PEDRO RUIZ GALLO', 0.006626156955581029),\n",
              "  ('PEDRO RUIZ', 0.005721534147410711),\n",
              "  ('SAN JERONIMO', 0.015708791583058532),\n",
              "  ('SANTA ROSA', 0.004004759668201047),\n",
              "  ('VILLA ERNESTINA', 0.003243812725791527)],\n",
              " [('MITOPAMPA', 0.01311083826457524),\n",
              "  ('NUEVA ESPERANZA', 0.001262009904865845),\n",
              "  ('PEDRO RUIZ GALLO', 0.006447357986029015),\n",
              "  ('PEDRO RUIZ', 0.005909807780293374),\n",
              "  ('SAN JERONIMO', 0.015396843442731312),\n",
              "  ('SANTA ROSA', 0.006468287949691915),\n",
              "  ('SEÑOR DE GUALAMITA', 0.003243812725791527)]]"
            ]
          },
          "metadata": {
            "tags": []
          },
          "execution_count": 11
        }
      ]
    },
    {
      "cell_type": "code",
      "metadata": {
        "id": "ZmWrU6vKOVY4"
      },
      "source": [
        "def dijkstra(adj: list, start: str):\n",
        "        \n",
        "    q = [] # cola de prioridad\n",
        "    dis[start] = 0\n",
        "\n",
        "    # En nuestra cola vamos a llevar \n",
        "    # pares (w, v) = (weight, vertex) = (peso, vertice/nodo)\n",
        "    # por qué no (v, w) -> las tuplas se ordenan \n",
        "    # lexicograficamente por defecto\n",
        "\n",
        "    pq.heappush(q, (0, start)) \n",
        "\n",
        "    while len(q) > 0:\n",
        "        _, v = pq.heappop(q)\n",
        "\n",
        "        if vis[v]: # Si ya lo he visitado antes, no hago nada\n",
        "            continue \n",
        "\n",
        "        vis[v] = True\n",
        "        path \n",
        "        index = list(vis).index(v)\n",
        "        for e, w in adj[index]: # Recorro vecinos\n",
        "            # Si he encontrado una nueva ruta para\n",
        "            # llegar al vecino 'e' a través de 'v' usando\n",
        "            # la arista con peso 'w', meto esa opción\n",
        "            # a la cola de prioridad\n",
        "            \n",
        "            if dis[v] + w < dis[e] and vis[e] == False:\n",
        "                dis[e] = dis[v] + w\n",
        "                path[e] = v\n",
        "                pq.heappush(q, (dis[e], e))\n",
        "\n",
        "    return dis"
      ],
      "execution_count": 12,
      "outputs": []
    },
    {
      "cell_type": "code",
      "metadata": {
        "colab": {
          "base_uri": "https://localhost:8080/"
        },
        "id": "BQtzaFM5akH6",
        "outputId": "c1307697-ab93-4925-a575-0d8b32746010"
      },
      "source": [
        "import time\n",
        "start_time = time.time()\n",
        "dijkstra(adj,'PEDRO RUIZ')\n",
        "print(\"--- %s seconds ---\" % (time.time() - start_time))"
      ],
      "execution_count": 6,
      "outputs": [
        {
          "output_type": "stream",
          "text": [
            "--- 9.417533874511719e-05 seconds ---\n"
          ],
          "name": "stdout"
        }
      ]
    },
    {
      "cell_type": "code",
      "metadata": {
        "colab": {
          "base_uri": "https://localhost:8080/"
        },
        "id": "X8eFY8eRObYo",
        "outputId": "6b163b53-f529-41e0-ef23-ea2aa73ff24f"
      },
      "source": [
        "ans = dijkstra(adj, 'PEDRO RUIZ')\n",
        "##Visitados\n",
        "print('Visitados')\n",
        "print(vis)\n",
        "costo = 0\n",
        "##Resultados\n",
        "print('Path')\n",
        "print(path)\n",
        "for i in ans:\n",
        "  costo+=ans[i]\n",
        "  #print('Distancia minima para llegar a '+ str(i) +' -> ' + str(ans[i]))\n",
        "\n",
        "print(costo)"
      ],
      "execution_count": 13,
      "outputs": [
        {
          "output_type": "stream",
          "text": [
            "Visitados\n",
            "{'MITOPAMPA': True, 'NUEVA ESPERANZA': True, 'PEDRO RUIZ GALLO': True, 'PEDRO RUIZ': True, 'SAN JERONIMO': True, 'SANTA ROSA': True, 'SEÑOR DE GUALAMITA': True, 'VILLA ERNESTINA': True}\n",
            "Path\n",
            "{'MITOPAMPA': 'PEDRO RUIZ', 'NUEVA ESPERANZA': 'PEDRO RUIZ', 'PEDRO RUIZ GALLO': 'PEDRO RUIZ', 'PEDRO RUIZ': '-1', 'SAN JERONIMO': 'PEDRO RUIZ', 'SANTA ROSA': 'PEDRO RUIZ', 'SEÑOR DE GUALAMITA': 'PEDRO RUIZ', 'VILLA ERNESTINA': 'PEDRO RUIZ'}\n",
            "0.048655786729060096\n"
          ],
          "name": "stdout"
        }
      ]
    },
    {
      "cell_type": "markdown",
      "metadata": {
        "id": "0KHrZ2btGJUm"
      },
      "source": [
        "#Complejidad Algorítmica"
      ]
    },
    {
      "cell_type": "markdown",
      "metadata": {
        "id": "MRSaebP3GLu1"
      },
      "source": [
        "En la versión sin cola de prioridad actualizamos las distancias a\n",
        "los nodos en un arreglo y luego recorremos ese arreglo para ver\n",
        "cuál es el más cercano que aún no visitamos.\n",
        "\n",
        "Podemos además de actualizar el arreglo, insertar el nodo en la\n",
        "cola de prioridad siendo el nodo más prioritario el que está más\n",
        "cercano al nodo inicial. Para esto tenemos que borrar de la cola\n",
        "de prioridad al nodo con su distancia anterior (antes de\n",
        "actualizar). Esto agrega un logaritmo en la complejidad en una\n",
        "parte del algoritmo. Como cada nodo actualiza una vez las\n",
        "distancias a sus vecinos cambiamos un O(m) por un O(m log m)"
      ]
    },
    {
      "cell_type": "markdown",
      "metadata": {
        "id": "U1ZL69OsHJAN"
      },
      "source": [
        "###Si hacemos esto podemos luego en tiempo logarítmico consultar cuál es el más cercano sin tener que recorrer todo el arreglo, esto reduce la complejidad en otra parte del algoritmo y nos reduce de O(n^2) sin cola de prioridad a O(n log n) con cola de prioridad."
      ]
    },
    {
      "cell_type": "markdown",
      "metadata": {
        "id": "4SsSwX9XzdTs"
      },
      "source": [
        "#Conclusión"
      ]
    },
    {
      "cell_type": "markdown",
      "metadata": {
        "id": "VWDOt4gKzflB"
      },
      "source": [
        "Debido a que el problema se describe como un viajero que puede visitar de un centro poblados a todos los demás centros poblado por helicóptero, la matriz de adyacencia de este grafo es simetrico ya que las aristas entre los nodos no son dirigidos, por lo tanto si ejecutamos el dijkstra para el reflejo de esta matriz en una lista de adyacencia no tendremos solución ya que considerará que la distincia minima en su trayecto es la que llega a otro nodo de forma directa y no pasando por 2,3, etc caminos."
      ]
    }
  ]
}