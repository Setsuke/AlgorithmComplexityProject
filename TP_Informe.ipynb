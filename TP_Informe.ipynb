{
  "nbformat": 4,
  "nbformat_minor": 0,
  "metadata": {
    "colab": {
      "name": "Vendedor Viajero.ipynb",
      "provenance": [],
      "authorship_tag": "ABX9TyP31zAOQfLMZoIEZanYB7v6",
      "include_colab_link": true
    },
    "kernelspec": {
      "name": "python3",
      "display_name": "Python 3"
    },
    "language_info": {
      "name": "python"
    }
  },
  "cells": [
    {
      "cell_type": "markdown",
      "metadata": {
        "id": "view-in-github",
        "colab_type": "text"
      },
      "source": [
        "<a href=\"https://colab.research.google.com/github/Setsuke/AlgorithmComplexityProject/blob/main/TP_Informe.ipynb\" target=\"_parent\"><img src=\"https://colab.research.google.com/assets/colab-badge.svg\" alt=\"Open In Colab\"/></a>"
      ]
    },
    {
      "cell_type": "markdown",
      "metadata": {
        "id": "li1yV0ltmZzf"
      },
      "source": [
        "# **Trabajo Parcial - Complejidad Algorítmica**"
      ]
    },
    {
      "cell_type": "markdown",
      "metadata": {
        "id": "WmrQkfrVAPpb"
      },
      "source": [
        "Profesor: Luis Canaval\n",
        "\n",
        "Integrantes:\n",
        "- Sergio Alva Rosales\n",
        "- William Angulo Valle\n",
        "- Carlos"
      ]
    },
    {
      "cell_type": "markdown",
      "metadata": {
        "id": "qxE_kYa7mcpj"
      },
      "source": [
        "## **Introducción**"
      ]
    },
    {
      "cell_type": "markdown",
      "metadata": {
        "id": "iVbO996MnI9M"
      },
      "source": [
        "\n",
        "En el siguiente proyecto se planea elaborar una estimación a la solución del problema \"El vendedor viajero\" (Travelling Salesman Problem) por medio de diferentes algoritmos. Asimismo, se realizará un analisis sintáctico a cada estimación de solución presentada para hallar el más óptimo para este caso."
      ]
    },
    {
      "cell_type": "markdown",
      "metadata": {
        "id": "ajswoo08Jplr"
      },
      "source": [
        "## **Estado del Arte**"
      ]
    },
    {
      "cell_type": "markdown",
      "metadata": {
        "id": "Q41y-zRo_80Q"
      },
      "source": [
        ""
      ]
    },
    {
      "cell_type": "markdown",
      "metadata": {
        "id": "8ogk3u7VKRfX"
      },
      "source": [
        "## **Metodología**"
      ]
    },
    {
      "cell_type": "markdown",
      "metadata": {
        "id": "WGna9xZW_3pJ"
      },
      "source": [
        "## Algoritmo Fuerza Bruta\n",
        "Un algoritmo de Fuerza Bruta representa al algoritmo solución más simple possible y consiste en intentar todas las opciones posibles. De esta manera, se sitúa el patron a seguir en la primera posición y se compara cada uno hasta finalizarse el proceso. Este mismo no require de una fase previa al proceso ni espacios adicionales de manera constante. Fuerza Bruta es utilizado comúnmente para resolver problemas difíciles que no tienen un método directo de resolución."
      ]
    },
    {
      "cell_type": "markdown",
      "metadata": {
        "id": "2FkEbyykAweq"
      },
      "source": [
        "## Algoritmo Divide y Vencerás\n",
        "Este algoritmo se basa en dividir un problema en varios problemas de menor tamaño de manera que el problema se divide por una constante. Luego, se resuelven los subproblemas mediante el algoritmo y se combinan las soluciones para obtener la solución al problema inicial.\n"
      ]
    },
    {
      "cell_type": "markdown",
      "metadata": {
        "id": "swRmjtcACGp6"
      },
      "source": [
        "## Algoritmo Backtracking\n",
        "El algoritmo Backtracking\n"
      ]
    },
    {
      "cell_type": "markdown",
      "metadata": {
        "id": "EdEQ1sdeA10U"
      },
      "source": [
        "## Algoritmo de Dijkstra\n",
        "El algoritmo de Dijkstra es un algoritmo que se dedica a determinar el camino más corto desde un vértice origen hacia los demás vértices que pertenecen a un mismo grafo con valores en sus aristas. Este algoritmo es utilizado en distribuciones de correos postales y productos de comercio. Además, cada peso de las aristas suele representar distancias entre caminos que conectan ciudades como vértices.\n"
      ]
    },
    {
      "cell_type": "markdown",
      "metadata": {
        "id": "lTbYAMoQBXRv"
      },
      "source": [
        "## **Conclusiones**"
      ]
    },
    {
      "cell_type": "markdown",
      "metadata": {
        "id": "yeJdp7hmBcGr"
      },
      "source": [
        ""
      ]
    },
    {
      "cell_type": "markdown",
      "metadata": {
        "id": "m2OMQbP2BcPi"
      },
      "source": [
        "## **Bibliografía**"
      ]
    },
    {
      "cell_type": "markdown",
      "metadata": {
        "id": "vAshSx8yBqkX"
      },
      "source": [
        "- https://sites.google.com/site/busquedasecuencialdetexto/algoritmo-fuerza-bruta\n",
        "- https://www.infor.uva.es/~cvaca/asigs/EDTema2.pdf\n",
        "- https://www.ecured.cu/Algoritmo_de_Dijkstra\n"
      ]
    }
  ]
}