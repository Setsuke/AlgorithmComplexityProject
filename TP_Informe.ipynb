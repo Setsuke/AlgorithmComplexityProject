{
  "nbformat": 4,
  "nbformat_minor": 0,
  "metadata": {
    "colab": {
      "name": "Vendedor Viajero.ipynb",
      "provenance": [],
      "authorship_tag": "ABX9TyOceeIUuJ81k+pbg4Qkt/g+",
      "include_colab_link": true
    },
    "kernelspec": {
      "name": "python3",
      "display_name": "Python 3"
    },
    "language_info": {
      "name": "python"
    }
  },
  "cells": [
    {
      "cell_type": "markdown",
      "metadata": {
        "id": "view-in-github",
        "colab_type": "text"
      },
      "source": [
        "<a href=\"https://colab.research.google.com/github/Setsuke/AlgorithmComplexityProject/blob/main/TP_Informe.ipynb\" target=\"_parent\"><img src=\"https://colab.research.google.com/assets/colab-badge.svg\" alt=\"Open In Colab\"/></a>"
      ]
    },
    {
      "cell_type": "markdown",
      "metadata": {
        "id": "li1yV0ltmZzf"
      },
      "source": [
        "## **Trabajo Parcial - Complejidad Algorítmica**"
      ]
    },
    {
      "cell_type": "markdown",
      "metadata": {
        "id": "qxE_kYa7mcpj"
      },
      "source": [
        "## Introducción"
      ]
    },
    {
      "cell_type": "markdown",
      "metadata": {
        "id": "iVbO996MnI9M"
      },
      "source": [
        "\n",
        "En el siguiente proyecto se planea elaborar una estimación a la solución del problema \"El vendedor viajero\" (Travelling Salesman Problem) por medio de diferentes algoritmos. Asimismo, se realizará un analisis sintáctico a cada estimación de solución presentada para hallar el más óptimo para este caso."
      ]
    },
    {
      "cell_type": "markdown",
      "metadata": {
        "id": "ajswoo08Jplr"
      },
      "source": [
        "## Estado del Arte"
      ]
    },
    {
      "cell_type": "markdown",
      "metadata": {
        "id": "8ogk3u7VKRfX"
      },
      "source": [
        ""
      ]
    }
  ]
}