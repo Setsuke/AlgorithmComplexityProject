{
  "nbformat": 4,
  "nbformat_minor": 0,
  "metadata": {
    "colab": {
      "name": "Vendedor Viajero.ipynb",
      "provenance": [],
      "authorship_tag": "ABX9TyNIrA+wpjxtSwPrde2BMnrs",
      "include_colab_link": true
    },
    "kernelspec": {
      "name": "python3",
      "display_name": "Python 3"
    },
    "language_info": {
      "name": "python"
    }
  },
  "cells": [
    {
      "cell_type": "markdown",
      "metadata": {
        "id": "view-in-github",
        "colab_type": "text"
      },
      "source": [
        "<a href=\"https://colab.research.google.com/github/Setsuke/AlgorithmComplexityProject/blob/main/Vendedor_Viajero.ipynb\" target=\"_parent\"><img src=\"https://colab.research.google.com/assets/colab-badge.svg\" alt=\"Open In Colab\"/></a>"
      ]
    },
    {
      "cell_type": "markdown",
      "metadata": {
        "id": "li1yV0ltmZzf"
      },
      "source": [
        "# **El Vendedor Viajero**"
      ]
    },
    {
      "cell_type": "markdown",
      "metadata": {
        "id": "qxE_kYa7mcpj"
      },
      "source": [
        "## Algoritmos a utilizar"
      ]
    },
    {
      "cell_type": "markdown",
      "metadata": {
        "id": "iVbO996MnI9M"
      },
      "source": [
        "\n"
      ]
    }
  ]
}