{
  "nbformat": 4,
  "nbformat_minor": 0,
  "metadata": {
    "colab": {
      "name": "DijkstraAttempt.ipynb",
      "provenance": [],
      "collapsed_sections": [],
      "include_colab_link": true
    },
    "kernelspec": {
      "name": "python3",
      "display_name": "Python 3"
    },
    "language_info": {
      "name": "python"
    }
  },
  "cells": [
    {
      "cell_type": "markdown",
      "metadata": {
        "id": "view-in-github",
        "colab_type": "text"
      },
      "source": [
        "<a href=\"https://colab.research.google.com/github/Setsuke/AlgorithmComplexityProject/blob/main/DijkstraAttempt.ipynb\" target=\"_parent\"><img src=\"https://colab.research.google.com/assets/colab-badge.svg\" alt=\"Open In Colab\"/></a>"
      ]
    },
    {
      "cell_type": "code",
      "metadata": {
        "id": "0hvkl8vYPFsD"
      },
      "source": [
        " cities = {\n",
        "        'RV': {'S': 195, 'UL': 86, 'M': 178, 'BA': 180, 'Z': 91},\n",
        "        'UL': {'RV': 86, 'S': 107, 'N': 171, 'M': 123},\n",
        "        'M': {'RV': 178, 'UL': 123, 'N': 170},\n",
        "        'S': {'RV': 195, 'UL': 107, 'N': 210, 'F': 210, 'MA': 135, 'KA': 64},\n",
        "        'N': {'S': 210, 'UL': 171, 'M': 170, 'MA': 230, 'F': 230},\n",
        "        'F': {'N': 230, 'S': 210, 'MA': 85},\n",
        "        'MA': {'F': 85, 'N': 230, 'S': 135, 'KA': 67},\n",
        "        'KA': {'MA': 67, 'S': 64, 'BA': 191},\n",
        "        'BA': {'KA': 191, 'RV': 180, 'Z': 85, 'BE': 91},\n",
        "        'BE': {'BA': 91, 'Z': 120},\n",
        "        'Z': {'BA': 120, 'BE': 85, 'RV': 91}\n",
        " }\n",
        " "
      ],
      "execution_count": null,
      "outputs": []
    },
    {
      "cell_type": "code",
      "metadata": {
        "id": "mKWlJlafXXgB"
      },
      "source": [
        "cities[origen].get(0)\n"
      ],
      "execution_count": null,
      "outputs": []
    },
    {
      "cell_type": "code",
      "metadata": {
        "colab": {
          "base_uri": "https://localhost:8080/"
        },
        "id": "cfp9TyvUPoyK",
        "outputId": "d19ec4af-c7bb-4f10-b3c6-ad96430c11cd"
      },
      "source": [
        "import heapq as pq #priority queue\n",
        "import math\n",
        "\n",
        "#Listas de adyacencia para cada nodo\n",
        "adj = [[] for _ in range(len(cities))]\n",
        "i = -1\n",
        "vis = {}\n",
        "dis = {}\n",
        "\n",
        "for origen in cities.keys():\n",
        "  a = origen\n",
        "  vis[a] = False\n",
        "  dis[a] = math.inf\n",
        "  i = i + 1\n",
        "  for destino in cities[origen].keys():\n",
        "    #print(cities[origen].keys(0))\n",
        "    b = destino\n",
        "    c = cities[origen][destino]\n",
        "    adj[i].append((b,c))\n",
        "\n",
        "print(adj)\n",
        "###############\n",
        "#adj = [[(1, 6), (2, 2), (2, 4)], [], [(1, 3)]]\n",
        "#print(adj)"
      ],
      "execution_count": null,
      "outputs": [
        {
          "output_type": "stream",
          "text": [
            "[[('S', 195), ('UL', 86), ('M', 178), ('BA', 180), ('Z', 91)], [('RV', 86), ('S', 107), ('N', 171), ('M', 123)], [('RV', 178), ('UL', 123), ('N', 170)], [('RV', 195), ('UL', 107), ('N', 210), ('F', 210), ('MA', 135), ('KA', 64)], [('S', 210), ('UL', 171), ('M', 170), ('MA', 230), ('F', 230)], [('N', 230), ('S', 210), ('MA', 85)], [('F', 85), ('N', 230), ('S', 135), ('KA', 67)], [('MA', 67), ('S', 64), ('BA', 191)], [('KA', 191), ('RV', 180), ('Z', 85), ('BE', 91)], [('BA', 91), ('Z', 120)], [('BA', 120), ('BE', 85), ('RV', 91)]]\n"
          ],
          "name": "stdout"
        }
      ]
    },
    {
      "cell_type": "code",
      "metadata": {
        "id": "Crxqvx6ETHQ6"
      },
      "source": [
        "def dijkstra(n: int, adj: list, start: str):\n",
        "    #vis = [False for _ in range(n)]\n",
        "    #for _ in range(n):\n",
        "    ##Diccionario de visitados \n",
        "      #vis[_] = False\n",
        "    ##Diccionario de distancias\n",
        "      #dis[_] = float('inf')   \n",
        "    #dist = [float('inf') for _ in range(n)]\n",
        "    \n",
        "    q = [] # cola de prioridad\n",
        "    dis[start] = 0\n",
        "\n",
        "    # En nuestra cola vamos a llevar \n",
        "    # pares (w, v) = (weight, vertex) = (peso, vertice/nodo)\n",
        "    # por qué no (v, w) -> las tuplas se ordenan \n",
        "    # lexicograficamente por defecto\n",
        "\n",
        "    pq.heappush(q, (0, start)) \n",
        "\n",
        "    while len(q) > 0:\n",
        "        _, v = pq.heappop(q)\n",
        "\n",
        "        if vis[v]: # Si ya lo he visitado antes, no hago nada\n",
        "            continue \n",
        "\n",
        "        vis[v] = True\n",
        "        index = list(vis).index(v)\n",
        "        for e, w in adj[index]: # Recorro vecinos\n",
        "            # Si he encontrado una nueva ruta para\n",
        "            # llegar al vecino 'e' a través de 'v' usando\n",
        "            # la arista con peso 'w', meto esa opción\n",
        "            # a la cola de prioridad\n",
        "            \n",
        "            if dis[v] + w < dis[e] and vis[e] == False:\n",
        "                dis[e] = dis[v] + w\n",
        "                pq.heappush(q, (dis[e], e))\n",
        "\n",
        "    return dis"
      ],
      "execution_count": null,
      "outputs": []
    },
    {
      "cell_type": "code",
      "metadata": {
        "id": "h9Qok62-ef1-"
      },
      "source": [
        "ans = dijkstra(0, adj, 'RV')"
      ],
      "execution_count": null,
      "outputs": []
    },
    {
      "cell_type": "code",
      "metadata": {
        "colab": {
          "base_uri": "https://localhost:8080/"
        },
        "id": "_bbBQfB0xWlx",
        "outputId": "4f4084f2-b8aa-4217-dc67-a717059e1b46"
      },
      "source": [
        "print(vis)\n",
        "for i in ans:\n",
        "  print('Distancia minima para llegar a '+ str(i) +' -> ' + str(ans[i]))"
      ],
      "execution_count": null,
      "outputs": [
        {
          "output_type": "stream",
          "text": [
            "{'RV': True, 'UL': True, 'M': True, 'S': True, 'N': True, 'F': True, 'MA': True, 'KA': True, 'BA': True, 'BE': True, 'Z': True}\n",
            "Distancia minima para llegar a RV -> 0\n",
            "Distancia minima para llegar a UL -> 86\n",
            "Distancia minima para llegar a M -> 178\n",
            "Distancia minima para llegar a S -> 193\n",
            "Distancia minima para llegar a N -> 257\n",
            "Distancia minima para llegar a F -> 403\n",
            "Distancia minima para llegar a MA -> 324\n",
            "Distancia minima para llegar a KA -> 257\n",
            "Distancia minima para llegar a BA -> 180\n",
            "Distancia minima para llegar a BE -> 176\n",
            "Distancia minima para llegar a Z -> 91\n"
          ],
          "name": "stdout"
        }
      ]
    }
  ]
}