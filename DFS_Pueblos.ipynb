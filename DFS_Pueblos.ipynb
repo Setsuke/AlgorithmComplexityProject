{
  "nbformat": 4,
  "nbformat_minor": 0,
  "metadata": {
    "colab": {
      "name": "DFS Pueblos.ipynb",
      "provenance": [],
      "include_colab_link": true
    },
    "kernelspec": {
      "name": "python3",
      "display_name": "Python 3"
    },
    "language_info": {
      "name": "python"
    }
  },
  "cells": [
    {
      "cell_type": "markdown",
      "metadata": {
        "id": "view-in-github",
        "colab_type": "text"
      },
      "source": [
        "<a href=\"https://colab.research.google.com/github/Setsuke/AlgorithmComplexityProject/blob/main/DFS_Pueblos.ipynb\" target=\"_parent\"><img src=\"https://colab.research.google.com/assets/colab-badge.svg\" alt=\"Open In Colab\"/></a>"
      ]
    },
    {
      "cell_type": "code",
      "metadata": {
        "id": "FRBP66r5Ibfr"
      },
      "source": [
        "sergio ={0: {'Origen': 'DOS CORRALES', 'Destino': 'EL PALMO', 'Distancia': 0.03648936010675473}, \n",
        "       1: {'Origen': 'DOS CORRALES', 'Destino': 'LA VIÑA', 'Distancia': 0.09371572914938436}, \n",
        "       2: {'Origen': 'DOS CORRALES', 'Destino': 'PAMPA DE LEQUE LEQUE', 'Distancia': 0.005874046646053649}, \n",
        "       3: {'Origen': 'DOS CORRALES', 'Destino': 'SALDAÑA BAJO', 'Distancia': 0.08672309822071995}, \n",
        "       4: {'Origen': 'EL PALMO', 'Destino': 'LA VIÑA', 'Distancia': 0.12956510887195952}, \n",
        "       5: {'Origen': 'EL PALMO', 'Destino': 'PAMPA DE LEQUE LEQUE', 'Distancia': 0.039907462823397515}, \n",
        "       6: {'Origen': 'EL PALMO', 'Destino': 'SALDAÑA BAJO', 'Distancia': 0.1225225436562695}, \n",
        "       7: {'Origen': 'LA VIÑA', 'Destino': 'PAMPA DE LEQUE LEQUE', 'Distancia': 0.09194587604672444}, \n",
        "       8: {'Origen': 'LA VIÑA', 'Destino': 'SALDAÑA BAJO', 'Distancia': 0.007063147810998087}, \n",
        "       9: {'Origen': 'PAMPA DE LEQUE LEQUE', 'Destino': 'SALDAÑA BAJO', 'Distancia': 0.0850296232674212}}\n",
        "\n",
        "JAZAN = {'DOS CORRALES':{'EL PALMO':0.03648936010675473, 'LA VIÑA': 0.09371572914938436,'PAMPA DE LEQUE LEQUE':0.005874046646053649,'SALDAÑA BAJO': 0.08672309822071995 },\n",
        "         'EL PALMO':{'LA VIÑA': 0.12956510887195952,'PAMPA DE LEQUE LEQUE':0.039907462823397515,'SALDAÑA BAJO': 0.1225225436562695, 'DOS CORRALES': 0.03648936010675473},\n",
        "         'LA VIÑA' :{'PAMPA DE LEQUE LEQUE': 0.09194587604672444,'SALDAÑA BAJO':0.007063147810998087, 'EL PALMO': 0.12956510887195952, 'DOS CORRALES': 0.09371572914938436},\n",
        "         'PAMPA DE LEQUE LEQUE':{'SALDAÑA BAJO': 0.0850296232674212,'LA VIÑA': 0.09194587604672444,'EL PALMO':0.039907462823397515,'DOS CORRALES':0.005874046646053649 },\n",
        "         'SALDAÑA BAJO':{'DOS CORRALES': 0.08672309822071995, 'EL PALMO': 0.1225225436562695, 'LA VIÑA':0.007063147810998087,'PAMPA DE LEQUE LEQUE': 0.0850296232674212 }\n",
        "        }"
      ],
      "execution_count": null,
      "outputs": []
    },
    {
      "cell_type": "code",
      "metadata": {
        "id": "2OExlsm9Vm6_"
      },
      "source": [
        ""
      ],
      "execution_count": null,
      "outputs": []
    },
    {
      "cell_type": "code",
      "metadata": {
        "id": "O8Y8btlSIsl5"
      },
      "source": [
        "import matplotlib.pyplot as plt\n",
        "import networkx as nx\n",
        "G = nx.Graph()\n",
        "arr = []\n",
        "adj = [[] for _ in range(len(JAZAN))]\n",
        "i = -1\n",
        "vis = {}\n",
        "dis = {}\n",
        "                                                                 \n",
        "for index in JAZAN.keys():\n",
        "  a = JAZAN[index]['Origen']\n",
        "  c=JAZAN[index]['Destino']\n",
        "  d=JAZAN[index]['Distancia']\n",
        "  arr.append((a, c, d))"
      ],
      "execution_count": null,
      "outputs": []
    },
    {
      "cell_type": "code",
      "metadata": {
        "colab": {
          "base_uri": "https://localhost:8080/"
        },
        "id": "uVRkdE9fJWEm",
        "outputId": "e1489fb8-8d6c-4917-ae0d-078834104cc3"
      },
      "source": [
        "#Listas de adyacencia para cada nodo\n",
        "adj = [[] for _ in range(len(JAZAN))]\n",
        "\n",
        "i = -1\n",
        "vis = []\n",
        "orden = []\n",
        "\n",
        "for origen in JAZAN.keys():\n",
        "  a = origen\n",
        "  orden.append(a)\n",
        "  i = i + 1\n",
        "  for destino in JAZAN[origen].keys():\n",
        "    b = destino\n",
        "    c = JAZAN[origen][destino]\n",
        "    adj[i].append((b,c))\n",
        "\n",
        "print(orden)\n",
        "print(vis)\n",
        "print(adj)"
      ],
      "execution_count": null,
      "outputs": [
        {
          "output_type": "stream",
          "text": [
            "['DOS CORRALES', 'EL PALMO', 'LA VIÑA', 'PAMPA DE LEQUE LEQUE', 'SALDAÑA BAJO']\n",
            "[]\n",
            "[[('EL PALMO', 0.03648936010675473), ('LA VIÑA', 0.09371572914938436), ('PAMPA DE LEQUE LEQUE', 0.005874046646053649), ('SALDAÑA BAJO', 0.08672309822071995)], [('LA VIÑA', 0.12956510887195952), ('PAMPA DE LEQUE LEQUE', 0.039907462823397515), ('SALDAÑA BAJO', 0.1225225436562695), ('DOS CORRALES', 0.03648936010675473)], [('PAMPA DE LEQUE LEQUE', 0.09194587604672444), ('SALDAÑA BAJO', 0.007063147810998087), ('EL PALMO', 0.12956510887195952), ('DOS CORRALES', 0.09371572914938436)], [('SALDAÑA BAJO', 0.0850296232674212), ('LA VIÑA', 0.09194587604672444), ('EL PALMO', 0.039907462823397515), ('DOS CORRALES', 0.005874046646053649)], [('DOS CORRALES', 0.08672309822071995), ('EL PALMO', 0.1225225436562695), ('LA VIÑA', 0.007063147810998087), ('PAMPA DE LEQUE LEQUE', 0.0850296232674212)]]\n"
          ],
          "name": "stdout"
        }
      ]
    },
    {
      "cell_type": "code",
      "metadata": {
        "id": "DgziiTmlOp88"
      },
      "source": [
        "def valid(nodo:str):\n",
        "  if nodo in vis:\n",
        "    return False\n",
        "  else:\n",
        "    return True\n",
        " "
      ],
      "execution_count": null,
      "outputs": []
    },
    {
      "cell_type": "code",
      "metadata": {
        "id": "dZn37DnxN4MA"
      },
      "source": [
        "import heapq as pq #priority queue\n",
        "\n",
        "\n",
        "def DFS(nodito: str, peso: float):\n",
        "  vis.append(nodito)\n",
        "  \n",
        "  i = i + peso\n",
        "\n",
        "  index = list(orden).index(nodito)\n",
        "  #Busco su index para recorrer sus vecinos\n",
        "\n",
        "  q = [] # q es la cola soporte de heapq\n",
        "  for e, w in adj[index]:\n",
        "    print(nodito)\n",
        "    print(str(e)+' '+str(w))\n",
        "    print('--------')\n",
        "    pq.heappush(q, (w, e))\n",
        "  \n",
        "  while len(q) > 0 :\n",
        "    n,v = pq.heappop(q)\n",
        "    if valid(v):\n",
        "      DFS(v, n)\n",
        "      break\n",
        "  \n",
        "  \n",
        "  \n",
        "\n"
      ],
      "execution_count": null,
      "outputs": []
    },
    {
      "cell_type": "code",
      "metadata": {
        "id": "CRuKL6wLQ6Td"
      },
      "source": [
        "i = 0\n",
        "\n",
        "DFS('DOS CORRALES',0.0)"
      ],
      "execution_count": null,
      "outputs": []
    },
    {
      "cell_type": "code",
      "metadata": {
        "id": "b8rECOuBZGQY"
      },
      "source": [
        "print(vis)\n",
        "print(cost)"
      ],
      "execution_count": null,
      "outputs": []
    },
    {
      "cell_type": "code",
      "metadata": {
        "colab": {
          "base_uri": "https://localhost:8080/"
        },
        "id": "5ggw_6dkRvSE",
        "outputId": "a9670677-0247-4d8e-cd86-9c9c976620f5"
      },
      "source": [
        "index = list(orden).index('DOS CORRALES')\n",
        "index"
      ],
      "execution_count": null,
      "outputs": [
        {
          "output_type": "execute_result",
          "data": {
            "text/plain": [
              "0"
            ]
          },
          "metadata": {
            "tags": []
          },
          "execution_count": 27
        }
      ]
    }
  ]
}